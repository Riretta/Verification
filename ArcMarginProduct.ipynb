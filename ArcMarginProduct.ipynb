{
 "cells": [
  {
   "cell_type": "code",
   "execution_count": null,
   "metadata": {},
   "outputs": [],
   "source": [
    "#!/usr/bin/env python\n",
    "# encoding: utf-8\n",
    "'''\n",
    "@author: wujiyang\n",
    "@contact: wujiyang@hust.edu.cn\n",
    "@file: ArcMarginProduct.py\n",
    "@time: 2018/12/25 9:13\n",
    "@desc: additive angular margin for arcface/insightface\n",
    "'''\n",
    "\n",
    "import math\n",
    "import torch\n",
    "from torch import nn\n",
    "from torch.nn import Parameter\n",
    "import torch.nn.functional as F\n",
    "\n",
    "class ArcMarginProduct(nn.Module):\n",
    "    def __init__(self, in_feature=16, out_feature=41, s=32.0, m=1.35, easy_margin=False):\n",
    "        super(ArcMarginProduct, self).__init__()\n",
    "        self.in_feature = in_feature\n",
    "        self.out_feature = out_feature\n",
    "        #s is the feature scale\n",
    "        self.s = s\n",
    "        #m is the margin value\n",
    "        self.m = m\n",
    "        #weight matrix dxn d=number of samples n= number of classes\n",
    "        self.weight = Parameter(torch.Tensor(out_feature, in_feature))\n",
    "        \n",
    "        nn.init.xavier_uniform_(self.weight)\n",
    "\n",
    "        self.easy_margin = easy_margin\n",
    "        self.cos_m = math.cos(m)\n",
    "        self.sin_m = math.sin(m)\n",
    "\n",
    "        # make the function cos(theta+m) monotonic decreasing while theta in [0°,180°]\n",
    "        self.th = math.cos(math.pi - m)\n",
    "        self.mm = math.sin(math.pi - m) * m\n",
    "\n",
    "    def forward(self, x, label):\n",
    "        # cos(theta)yi\n",
    "        #full connected layer takes input the normalized input and the normalized weight\n",
    "        cosine = F.linear(F.normalize(x), F.normalize(self.weight))\n",
    "                \n",
    "        # cos(theta + m)\n",
    "        sine = torch.sqrt(1.0 - torch.pow(cosine, 2))\n",
    "        phi = cosine * self.cos_m - sine * self.sin_m\n",
    "        \n",
    "        if self.easy_margin:\n",
    "            phi = torch.where(cosine > 0, phi, cosine)\n",
    "        else:\n",
    "            phi = torch.where((cosine - self.th) > 0, phi, cosine - self.mm)\n",
    "       \n",
    "        #Groundtruth one hot vector\n",
    "        one_hot = torch.zeros_like(cosine)\n",
    "        one_hot.scatter_(1, label.view(-1, 1), 1)\n",
    "        cosine = self.s * cosine\n",
    "        output = (one_hot * phi) + ((1.0 - one_hot) * cosine)\n",
    "        output = output #* self.s\n",
    "\n",
    "        return output\n",
    "\n"
   ]
  },
  {
   "cell_type": "code",
   "execution_count": null,
   "metadata": {},
   "outputs": [],
   "source": [
    "#criterion_classi = torch.nn.CrossEntropyLoss().to(device)\n",
    "#margin = ArcMarginProduct(args.feature_dim, trainset.class_nums, s=args.scale_size)\n",
    "#feature = net(img)\n",
    "#output = margin(feature)\n",
    "#loss_classi = criterion_classi(output, label)"
   ]
  }
 ],
 "metadata": {
  "kernelspec": {
   "display_name": "Python 3",
   "language": "python",
   "name": "python3"
  },
  "language_info": {
   "codemirror_mode": {
    "name": "ipython",
    "version": 3
   },
   "file_extension": ".py",
   "mimetype": "text/x-python",
   "name": "python",
   "nbconvert_exporter": "python",
   "pygments_lexer": "ipython3",
   "version": "3.6.7"
  }
 },
 "nbformat": 4,
 "nbformat_minor": 2
}
